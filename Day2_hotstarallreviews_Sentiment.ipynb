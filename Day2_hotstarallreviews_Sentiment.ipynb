{
 "cells": [
  {
   "cell_type": "code",
   "execution_count": 1,
   "metadata": {},
   "outputs": [],
   "source": [
    "import nltk\n",
    "import pandas as pd\n",
    "import numpy as np"
   ]
  },
  {
   "cell_type": "code",
   "execution_count": 2,
   "metadata": {},
   "outputs": [],
   "source": [
    "hotstar = pd.read_csv('hotstar.allreviews_sentiments.csv')"
   ]
  },
  {
   "cell_type": "code",
   "execution_count": 3,
   "metadata": {},
   "outputs": [
    {
     "data": {
      "text/html": [
       "<div>\n",
       "<style scoped>\n",
       "    .dataframe tbody tr th:only-of-type {\n",
       "        vertical-align: middle;\n",
       "    }\n",
       "\n",
       "    .dataframe tbody tr th {\n",
       "        vertical-align: top;\n",
       "    }\n",
       "\n",
       "    .dataframe thead th {\n",
       "        text-align: right;\n",
       "    }\n",
       "</style>\n",
       "<table border=\"1\" class=\"dataframe\">\n",
       "  <thead>\n",
       "    <tr style=\"text-align: right;\">\n",
       "      <th></th>\n",
       "      <th>ID</th>\n",
       "      <th>UserName</th>\n",
       "      <th>Created_Date</th>\n",
       "      <th>Reviews</th>\n",
       "      <th>Lower_Case_Reviews</th>\n",
       "      <th>Sentiment_Manual_BP</th>\n",
       "      <th>Sentiment_Manual</th>\n",
       "      <th>Review_Length</th>\n",
       "      <th>DataSource</th>\n",
       "      <th>Year</th>\n",
       "      <th>Month</th>\n",
       "      <th>Date</th>\n",
       "      <th>Sentiment_Polarity</th>\n",
       "    </tr>\n",
       "  </thead>\n",
       "  <tbody>\n",
       "    <tr>\n",
       "      <th>0</th>\n",
       "      <td>1</td>\n",
       "      <td>NaN</td>\n",
       "      <td>8/10/2017</td>\n",
       "      <td>Hh</td>\n",
       "      <td>hh</td>\n",
       "      <td>Negative</td>\n",
       "      <td>Negative</td>\n",
       "      <td>2</td>\n",
       "      <td>Google_PlayStore</td>\n",
       "      <td>2017</td>\n",
       "      <td>8</td>\n",
       "      <td>10</td>\n",
       "      <td>Neutral</td>\n",
       "    </tr>\n",
       "    <tr>\n",
       "      <th>1</th>\n",
       "      <td>2</td>\n",
       "      <td>NaN</td>\n",
       "      <td>8/11/2017</td>\n",
       "      <td>No</td>\n",
       "      <td>no</td>\n",
       "      <td>Negative</td>\n",
       "      <td>Negative</td>\n",
       "      <td>2</td>\n",
       "      <td>Google_PlayStore</td>\n",
       "      <td>2017</td>\n",
       "      <td>8</td>\n",
       "      <td>11</td>\n",
       "      <td>Neutral</td>\n",
       "    </tr>\n",
       "    <tr>\n",
       "      <th>2</th>\n",
       "      <td>3</td>\n",
       "      <td>asadynwa</td>\n",
       "      <td>8/12/2017</td>\n",
       "      <td>@hotstar_helps during paymnt for premium subsc...</td>\n",
       "      <td>@hotstar_helps during paymnt for premium subsc...</td>\n",
       "      <td>Help</td>\n",
       "      <td>Negative</td>\n",
       "      <td>140</td>\n",
       "      <td>Twitter</td>\n",
       "      <td>2017</td>\n",
       "      <td>8</td>\n",
       "      <td>12</td>\n",
       "      <td>Negative</td>\n",
       "    </tr>\n",
       "    <tr>\n",
       "      <th>3</th>\n",
       "      <td>4</td>\n",
       "      <td>jineshroxx</td>\n",
       "      <td>8/11/2017</td>\n",
       "      <td>@hotstartweets I am currently on Jio network a...</td>\n",
       "      <td>@hotstartweets i am currently on jio network a...</td>\n",
       "      <td>Help</td>\n",
       "      <td>Negative</td>\n",
       "      <td>140</td>\n",
       "      <td>Twitter</td>\n",
       "      <td>2017</td>\n",
       "      <td>8</td>\n",
       "      <td>11</td>\n",
       "      <td>Positive</td>\n",
       "    </tr>\n",
       "    <tr>\n",
       "      <th>4</th>\n",
       "      <td>5</td>\n",
       "      <td>YaminiSachar</td>\n",
       "      <td>8/5/2017</td>\n",
       "      <td>@hotstartweets the episodes of Sarabhai vs Sar...</td>\n",
       "      <td>@hotstartweets the episodes of sarabhai vs sar...</td>\n",
       "      <td>Help</td>\n",
       "      <td>Negative</td>\n",
       "      <td>140</td>\n",
       "      <td>Twitter</td>\n",
       "      <td>2017</td>\n",
       "      <td>8</td>\n",
       "      <td>5</td>\n",
       "      <td>Neutral</td>\n",
       "    </tr>\n",
       "  </tbody>\n",
       "</table>\n",
       "</div>"
      ],
      "text/plain": [
       "   ID      UserName Created_Date  \\\n",
       "0   1           NaN    8/10/2017   \n",
       "1   2           NaN    8/11/2017   \n",
       "2   3      asadynwa    8/12/2017   \n",
       "3   4    jineshroxx    8/11/2017   \n",
       "4   5  YaminiSachar     8/5/2017   \n",
       "\n",
       "                                             Reviews  \\\n",
       "0                                                 Hh   \n",
       "1                                                 No   \n",
       "2  @hotstar_helps during paymnt for premium subsc...   \n",
       "3  @hotstartweets I am currently on Jio network a...   \n",
       "4  @hotstartweets the episodes of Sarabhai vs Sar...   \n",
       "\n",
       "                                  Lower_Case_Reviews Sentiment_Manual_BP  \\\n",
       "0                                                 hh            Negative   \n",
       "1                                                 no            Negative   \n",
       "2  @hotstar_helps during paymnt for premium subsc...                Help   \n",
       "3  @hotstartweets i am currently on jio network a...                Help   \n",
       "4  @hotstartweets the episodes of sarabhai vs sar...                Help   \n",
       "\n",
       "  Sentiment_Manual  Review_Length        DataSource  Year  Month  Date  \\\n",
       "0         Negative              2  Google_PlayStore  2017      8    10   \n",
       "1         Negative              2  Google_PlayStore  2017      8    11   \n",
       "2         Negative            140           Twitter  2017      8    12   \n",
       "3         Negative            140           Twitter  2017      8    11   \n",
       "4         Negative            140           Twitter  2017      8     5   \n",
       "\n",
       "  Sentiment_Polarity  \n",
       "0            Neutral  \n",
       "1            Neutral  \n",
       "2           Negative  \n",
       "3           Positive  \n",
       "4            Neutral  "
      ]
     },
     "execution_count": 3,
     "metadata": {},
     "output_type": "execute_result"
    }
   ],
   "source": [
    "hotstar.head()"
   ]
  },
  {
   "cell_type": "code",
   "execution_count": 4,
   "metadata": {},
   "outputs": [
    {
     "name": "stdout",
     "output_type": "stream",
     "text": [
      "(5053, 13)\n"
     ]
    }
   ],
   "source": [
    "print(hotstar.shape)"
   ]
  },
  {
   "cell_type": "code",
   "execution_count": 5,
   "metadata": {},
   "outputs": [
    {
     "data": {
      "text/plain": [
       "0                                                   Hh\n",
       "1                                                   No\n",
       "2    @hotstar_helps during paymnt for premium subsc...\n",
       "3    @hotstartweets I am currently on Jio network a...\n",
       "4    @hotstartweets the episodes of Sarabhai vs Sar...\n",
       "Name: Reviews, dtype: object"
      ]
     },
     "execution_count": 5,
     "metadata": {},
     "output_type": "execute_result"
    }
   ],
   "source": [
    "hotstar['Reviews'].head()"
   ]
  },
  {
   "cell_type": "markdown",
   "metadata": {},
   "source": [
    "## GETTING SENTIMENTAL SCORE"
   ]
  },
  {
   "cell_type": "code",
   "execution_count": 6,
   "metadata": {},
   "outputs": [
    {
     "name": "stdout",
     "output_type": "stream",
     "text": [
      "[nltk_data] Downloading package vader_lexicon to\n",
      "[nltk_data]     C:\\Users\\ASHISH\\AppData\\Roaming\\nltk_data...\n",
      "[nltk_data]   Package vader_lexicon is already up-to-date!\n"
     ]
    },
    {
     "data": {
      "text/plain": [
       "True"
      ]
     },
     "execution_count": 6,
     "metadata": {},
     "output_type": "execute_result"
    }
   ],
   "source": [
    "nltk.download('vader_lexicon')"
   ]
  },
  {
   "cell_type": "code",
   "execution_count": 7,
   "metadata": {},
   "outputs": [
    {
     "name": "stdout",
     "output_type": "stream",
     "text": [
      "{'neg': 0.0, 'neu': 0.192, 'pos': 0.808, 'compound': 0.6369}\n",
      "{'neg': 0.0, 'neu': 0.169, 'pos': 0.831, 'compound': 0.7125}\n",
      "{'neg': 0.0, 'neu': 0.122, 'pos': 0.878, 'compound': 0.802}\n"
     ]
    },
    {
     "name": "stderr",
     "output_type": "stream",
     "text": [
      "C:\\Users\\ASHISH\\Anaconda3\\lib\\site-packages\\nltk\\twitter\\__init__.py:20: UserWarning: The twython library has not been installed. Some functionality from the twitter package will not be available.\n",
      "  warnings.warn(\"The twython library has not been installed. \"\n"
     ]
    }
   ],
   "source": [
    "from nltk.sentiment.vader import SentimentIntensityAnalyzer\n",
    "\n",
    "senti = SentimentIntensityAnalyzer()\n",
    "print(senti.polarity_scores('i love india'))\n",
    "print(senti.polarity_scores('i LOVE india'))\n",
    "print(senti.polarity_scores('i love india :)'))"
   ]
  },
  {
   "cell_type": "code",
   "execution_count": 8,
   "metadata": {},
   "outputs": [
    {
     "name": "stdout",
     "output_type": "stream",
     "text": [
      "0.6369\n"
     ]
    }
   ],
   "source": [
    "print(senti.polarity_scores('i love india')['compound'])"
   ]
  },
  {
   "cell_type": "code",
   "execution_count": 18,
   "metadata": {},
   "outputs": [
    {
     "data": {
      "text/plain": [
       "Neutral     2149\n",
       "Positive    2137\n",
       "Negative     767\n",
       "Name: sentiment_vader, dtype: int64"
      ]
     },
     "execution_count": 18,
     "metadata": {},
     "output_type": "execute_result"
    },
    {
     "data": {
      "image/png": "[encoded data removed]",
      "text/plain": [
       "<Figure size 432x288 with 1 Axes>"
      ]
     },
     "metadata": {
      "needs_background": "light"
     },
     "output_type": "display_data"
    }
   ],
   "source": [
    "%matplotlib inline\n",
    "def get_sentiment_score(review):\n",
    "    compound_score = senti.polarity_scores(review)['compound']\n",
    "    return compound_score\n",
    "\n",
    "def get_sentiment(score):\n",
    "    if score > 0.25:\n",
    "        return 'Positive'\n",
    "    elif score < -0.25:\n",
    "        return 'Negative'\n",
    "    else:\n",
    "        return 'Neutral'\n",
    "\n",
    "hotstar['sentiment_score'] = hotstar['Reviews'].apply(get_sentiment_score)\n",
    "hotstar['sentiment_vader'] = hotstar['sentiment_score'].apply(get_sentiment)\n",
    "hotstar['sentiment_score'].plot.hist()\n",
    "hotstar['sentiment_vader'].value_counts()"
   ]
  },
  {
   "cell_type": "code",
   "execution_count": 20,
   "metadata": {},
   "outputs": [
    {
     "data": {
      "text/plain": [
       "<matplotlib.axes._subplots.AxesSubplot at 0x1b10b379400>"
      ]
     },
     "execution_count": 20,
     "metadata": {},
     "output_type": "execute_result"
    },
    {
     "data": {
      "image/png": "[encoded data removed]",
      "text/plain": [
       "<Figure size 432x288 with 1 Axes>"
      ]
     },
     "metadata": {
      "needs_background": "light"
     },
     "output_type": "display_data"
    }
   ],
   "source": [
    "hotstar['sentiment_vader'].value_counts().plot.barh()"
   ]
  },
  {
   "cell_type": "markdown",
   "metadata": {},
   "source": [
    "## TRENDING ON SENTIMENTAL ANALYSIS"
   ]
  },
  {
   "cell_type": "markdown",
   "metadata": {},
   "source": [
    "#### DATE-TIME"
   ]
  },
  {
   "cell_type": "code",
   "execution_count": null,
   "metadata": {},
   "outputs": [],
   "source": []
  },
  {
   "cell_type": "code",
   "execution_count": 22,
   "metadata": {},
   "outputs": [
    {
     "data": {
      "text/plain": [
       "(Timestamp('2017-08-04 00:00:00'), Timestamp('2017-08-13 00:00:00'))"
      ]
     },
     "execution_count": 22,
     "metadata": {},
     "output_type": "execute_result"
    }
   ],
   "source": [
    "hotstar['date'] = pd.to_datetime(hotstar['Created_Date'])\n",
    "hotstar['date'].min(),hotstar['date'].max()"
   ]
  },
  {
   "cell_type": "code",
   "execution_count": 23,
   "metadata": {},
   "outputs": [
    {
     "data": {
      "text/plain": [
       "date        sentiment_vader\n",
       "2017-08-04  Negative            85\n",
       "            Neutral            130\n",
       "            Positive           112\n",
       "2017-08-05  Negative           111\n",
       "            Neutral            177\n",
       "            Positive           108\n",
       "2017-08-06  Negative            50\n",
       "            Neutral            144\n",
       "            Positive            93\n",
       "2017-08-07  Negative            72\n",
       "            Neutral            204\n",
       "            Positive           121\n",
       "2017-08-08  Negative            26\n",
       "            Neutral            118\n",
       "            Positive            77\n",
       "2017-08-09  Negative            86\n",
       "            Neutral            254\n",
       "            Positive           302\n",
       "2017-08-10  Negative           143\n",
       "            Neutral            401\n",
       "            Positive           485\n",
       "2017-08-11  Negative           116\n",
       "            Neutral            404\n",
       "            Positive           536\n",
       "2017-08-12  Negative            69\n",
       "            Neutral            252\n",
       "            Positive           247\n",
       "2017-08-13  Negative             9\n",
       "            Neutral             65\n",
       "            Positive            56\n",
       "dtype: int64"
      ]
     },
     "execution_count": 23,
     "metadata": {},
     "output_type": "execute_result"
    }
   ],
   "source": [
    "hotstar.groupby(['date','sentiment_vader']).size()"
   ]
  },
  {
   "cell_type": "code",
   "execution_count": 28,
   "metadata": {},
   "outputs": [
    {
     "data": {
      "text/html": [
       "<div>\n",
       "<style scoped>\n",
       "    .dataframe tbody tr th:only-of-type {\n",
       "        vertical-align: middle;\n",
       "    }\n",
       "\n",
       "    .dataframe tbody tr th {\n",
       "        vertical-align: top;\n",
       "    }\n",
       "\n",
       "    .dataframe thead th {\n",
       "        text-align: right;\n",
       "    }\n",
       "</style>\n",
       "<table border=\"1\" class=\"dataframe\">\n",
       "  <thead>\n",
       "    <tr style=\"text-align: right;\">\n",
       "      <th></th>\n",
       "      <th>date</th>\n",
       "      <th>sentiment_vader</th>\n",
       "      <th>count</th>\n",
       "    </tr>\n",
       "  </thead>\n",
       "  <tbody>\n",
       "    <tr>\n",
       "      <th>0</th>\n",
       "      <td>2017-08-04</td>\n",
       "      <td>Negative</td>\n",
       "      <td>85</td>\n",
       "    </tr>\n",
       "    <tr>\n",
       "      <th>1</th>\n",
       "      <td>2017-08-04</td>\n",
       "      <td>Neutral</td>\n",
       "      <td>130</td>\n",
       "    </tr>\n",
       "    <tr>\n",
       "      <th>2</th>\n",
       "      <td>2017-08-04</td>\n",
       "      <td>Positive</td>\n",
       "      <td>112</td>\n",
       "    </tr>\n",
       "    <tr>\n",
       "      <th>3</th>\n",
       "      <td>2017-08-05</td>\n",
       "      <td>Negative</td>\n",
       "      <td>111</td>\n",
       "    </tr>\n",
       "    <tr>\n",
       "      <th>4</th>\n",
       "      <td>2017-08-05</td>\n",
       "      <td>Neutral</td>\n",
       "      <td>177</td>\n",
       "    </tr>\n",
       "  </tbody>\n",
       "</table>\n",
       "</div>"
      ],
      "text/plain": [
       "        date sentiment_vader  count\n",
       "0 2017-08-04        Negative     85\n",
       "1 2017-08-04         Neutral    130\n",
       "2 2017-08-04        Positive    112\n",
       "3 2017-08-05        Negative    111\n",
       "4 2017-08-05         Neutral    177"
      ]
     },
     "execution_count": 28,
     "metadata": {},
     "output_type": "execute_result"
    }
   ],
   "source": [
    "sent_trend = hotstar.groupby(['date','sentiment_vader']).size()\n",
    "sent_trend = sent_trend.reset_index()\n",
    "sent_trend = sent_trend.rename(columns = {0:'count'})\n",
    "sent_trend.head()"
   ]
  },
  {
   "cell_type": "code",
   "execution_count": 30,
   "metadata": {},
   "outputs": [],
   "source": [
    "pos_rows = sent_trend[sent_trend['sentiment_vader'] == 'Positive']\n",
    "neg_rows = sent_trend[sent_trend['sentiment_vader'] == 'Negative']\n",
    "neu_rows = sent_trend[sent_trend['sentiment_vader'] == 'Neutral']"
   ]
  },
  {
   "cell_type": "code",
   "execution_count": 34,
   "metadata": {},
   "outputs": [
    {
     "data": {
      "text/plain": [
       "Text(0.5,1,'Sentiment Analysis on Hotstar Reviews')"
      ]
     },
     "execution_count": 34,
     "metadata": {},
     "output_type": "execute_result"
    },
    {
     "data": {
      "image/png": "[encoded data removed]",
      "text/plain": [
       "<Figure size 720x360 with 1 Axes>"
      ]
     },
     "metadata": {
      "needs_background": "light"
     },
     "output_type": "display_data"
    }
   ],
   "source": [
    "import matplotlib.pyplot as plt\n",
    "\n",
    "plt.figure(figsize = (10,5))\n",
    "\n",
    "plt.plot(pos_rows['date'],pos_rows['count'],color = 'green')\n",
    "plt.plot(neg_rows['date'],neg_rows['count'],color = 'red')\n",
    "plt.plot(neu_rows['date'],neu_rows['count'],color = 'grey')\n",
    "\n",
    "plt.legend(['Positive','Negative','Neutral'])\n",
    "plt.xlabel('Date')\n",
    "plt.ylabel('Count of reviews')\n",
    "plt.title('Sentiment Analysis on Hotstar Reviews')"
   ]
  },
  {
   "cell_type": "markdown",
   "metadata": {},
   "source": [
    "According to the user reviews HOTSTAR is good"
   ]
  },
  {
   "cell_type": "code",
   "execution_count": 49,
   "metadata": {},
   "outputs": [
    {
     "data": {
      "text/plain": [
       "0.5513556303186226"
      ]
     },
     "execution_count": 49,
     "metadata": {},
     "output_type": "execute_result"
    }
   ],
   "source": [
    "accuracy_score(hotstar['Sentiment_Manual'],hotstar['sentiment_vader'])"
   ]
  },
  {
   "cell_type": "markdown",
   "metadata": {},
   "source": [
    "# SUPERVISED SENTIMENT ANALYSIS"
   ]
  },
  {
   "cell_type": "code",
   "execution_count": 45,
   "metadata": {},
   "outputs": [
    {
     "data": {
      "text/plain": [
       "0.7486807387862797"
      ]
     },
     "execution_count": 45,
     "metadata": {},
     "output_type": "execute_result"
    }
   ],
   "source": [
    "from sklearn.model_selection import train_test_split\n",
    "from sklearn.ensemble import AdaBoostClassifier,RandomForestClassifier\n",
    "from sklearn.feature_extraction.text import CountVectorizer\n",
    "from sklearn.metrics import accuracy_score,f1_score,roc_curve,auc,confusion_matrix,classification_report\n",
    "\n",
    "stop_words = nltk.corpus.stopwords.words('english')\n",
    "stop_words = list(np.setdiff1d(stop_words,['not']))\n",
    "junk_words = []\n",
    "\n",
    "stop_words.extend(junk_words)\n",
    "stemmer = nltk.PorterStemmer()\n",
    "\n",
    "docs = hotstar['Reviews'].fillna('').str.lower().str.replace('[^a-z ]', '')\n",
    "docs_clean = docs.apply(lambda v : ' '.join([stemmer.stem(word) for word in v.split(' ') \\\n",
    "                                            if word not in stop_words]))\n",
    "\n",
    "train,test= train_test_split(docs_clean,test_size = 0.3,random_state = 100)\n",
    "\n",
    "cv = CountVectorizer()\n",
    "cv.fit(train)\n",
    "\n",
    "train_x = cv.transform(train)\n",
    "test_x = cv.transform(test)\n",
    "\n",
    "train_y = hotstar.loc[train.index]['Sentiment_Manual']\n",
    "test_y = hotstar.loc[test.index]['Sentiment_Manual']\n",
    "\n",
    "randomforest_model = RandomForestClassifier(n_estimators = 300,random_state = 100)   #using randomforestclassifier\n",
    "randomforest_model.fit(train_x,train_y)\n",
    "pred_class = randomforest_model.predict(test_x)\n",
    "accuracy_score(test_y,pred_class)"
   ]
  },
  {
   "cell_type": "code",
   "execution_count": 46,
   "metadata": {},
   "outputs": [
    {
     "data": {
      "text/plain": [
       "0.6893139841688655"
      ]
     },
     "execution_count": 46,
     "metadata": {},
     "output_type": "execute_result"
    }
   ],
   "source": [
    "adaboost_model = AdaBoostClassifier(n_estimators = 300,random_state = 100)    #using adaboostclassifier\n",
    "adaboost_model.fit(train_x,train_y)\n",
    "pred_class = adaboost_model.predict(test_x)\n",
    "accuracy_score(test_y,pred_class)"
   ]
  },
  {
   "cell_type": "code",
   "execution_count": 47,
   "metadata": {},
   "outputs": [
    {
     "name": "stdout",
     "output_type": "stream",
     "text": [
      "[nltk_data] Downloading package stopwords to\n",
      "[nltk_data]     C:\\Users\\ASHISH\\AppData\\Roaming\\nltk_data...\n",
      "[nltk_data]   Package stopwords is already up-to-date!\n"
     ]
    },
    {
     "data": {
      "text/plain": [
       "True"
      ]
     },
     "execution_count": 47,
     "metadata": {},
     "output_type": "execute_result"
    }
   ],
   "source": [
    "x = ['a','b','c']\n",
    "list(np.setdiff1d(x,['c']))\n",
    "nltk.download('stopwords')"
   ]
  },
  {
   "cell_type": "markdown",
   "metadata": {},
   "source": [
    "### NOTE :- Supervised way always gives better results than Unsupervised way"
   ]
  },
  {
   "cell_type": "markdown",
   "metadata": {},
   "source": [
    "## WEB SCRAPING\n"
   ]
  },
  {
   "cell_type": "code",
   "execution_count": 50,
   "metadata": {},
   "outputs": [
    {
     "data": {
      "text/plain": [
       "'C:\\\\Users\\\\ASHISH\\\\Desktop\\\\TEXT MINING and SENTIMENT ANALYSIS'"
      ]
     },
     "execution_count": 50,
     "metadata": {},
     "output_type": "execute_result"
    }
   ],
   "source": [
    "import os\n",
    "os.getcwd()"
   ]
  },
  {
   "cell_type": "code",
   "execution_count": 51,
   "metadata": {},
   "outputs": [
    {
     "name": "stdout",
     "output_type": "stream",
     "text": [
      "Collecting selenium\n",
      "  Downloading https://files.pythonhosted.org/packages/80/d6/4294f0b4bce4de0abf13e17190289f9d0613b0a44e5dd6a7f5ca98459853/selenium-3.141.0-py2.py3-none-any.whl (904kB)\n",
      "Requirement already satisfied: urllib3 in c:\\users\\ashish\\anaconda3\\lib\\site-packages (from selenium) (1.23)\n",
      "Installing collected packages: selenium\n",
      "Successfully installed selenium-3.141.0\n"
     ]
    }
   ],
   "source": [
    "!pip install selenium  #selenium package install"
   ]
  },
  {
   "cell_type": "code",
   "execution_count": 104,
   "metadata": {},
   "outputs": [],
   "source": [
    "from selenium import webdriver\n",
    "browser = webdriver.Chrome('chromedriver.exe')    #run automatically with python"
   ]
  },
  {
   "cell_type": "code",
   "execution_count": 56,
   "metadata": {},
   "outputs": [],
   "source": [
    "url =  'https://bit.ly/2QjOT2Z'\n",
    "browser.get(url)"
   ]
  },
  {
   "cell_type": "code",
   "execution_count": 58,
   "metadata": {},
   "outputs": [
    {
     "data": {
      "text/plain": [
       "25"
      ]
     },
     "execution_count": 58,
     "metadata": {},
     "output_type": "execute_result"
    }
   ],
   "source": [
    "parent_tags = browser.find_elements_by_css_selector('li.job-listing')\n",
    "len(parent_tags)"
   ]
  },
  {
   "cell_type": "code",
   "execution_count": 61,
   "metadata": {},
   "outputs": [
    {
     "name": "stdout",
     "output_type": "stream",
     "text": [
      "Data Science Architect\n",
      "Data Science Specialist\n",
      "Data Science Intern\n",
      "Data Science for Banking\n",
      "Head - Data Science and Analytics\n",
      "Data Science Expert-NLP\n",
      "Data Science Associate\n",
      "Data Science Manager\n",
      "Global Operations Data Science Consultant\n",
      "Data Scientist\n",
      "Product Manager (Data Science)\n",
      "Manager, Research Data Science\n",
      "AI Engineering Intern with Data Science and Insights\n",
      "Data Science Associate (Bengaluru, India)\n",
      "Data Science modelers\n",
      "Data Scientist\n",
      "Data Science Associate Manager\n",
      "Fresher Opportunities - Java/Scala/Data Science/Golang\n",
      "Data Science (Jupyter/Azure ML/MatLab)\n",
      "Data Scientist/Data Analytics\n",
      "Data Science Expert-Computer Vision\n",
      "Data Science Consultant (Bengaluru, India)\n",
      "Data Science - Cocoa And Chocolate\n",
      "KGS | Management Consulting | Analytics | Data Science\n",
      "Data Science Associate Consultant (New Delhi, India)\n"
     ]
    }
   ],
   "source": [
    "#for job roles\n",
    "for job in parent_tags:\n",
    "    title_tag = job.find_element_by_css_selector('span.job-title-text')\n",
    "    title = title_tag.get_attribute('innerHTML').replace('<b>','').replace('</b>','')\n",
    "    print(title)"
   ]
  },
  {
   "cell_type": "code",
   "execution_count": 62,
   "metadata": {},
   "outputs": [
    {
     "name": "stdout",
     "output_type": "stream",
     "text": [
      "Data Science Architect | YASH Technologies\n",
      "Data Science Specialist | Accenture in India\n",
      "Data Science Intern | Swiggy\n",
      "Data Science for Banking | Accenture in India\n",
      "Head - Data Science and Analytics | Biz2Credit\n",
      "Data Science Expert-NLP | Talentica Software\n",
      "Data Science Associate | Indus Insights\n",
      "Data Science Manager | Indus Insights\n",
      "Global Operations Data Science Consultant | Hewlett Packard Enterprise\n",
      "Data Scientist | Arnold Consulting Private Limited\n",
      "Product Manager (Data Science) | People Interactive\n",
      "Manager, Research Data Science | Amazon\n",
      "AI Engineering Intern with Data Science and Insights | Genpact\n",
      "Data Science Associate (Bengaluru, India) | ZS\n",
      "Data Science modelers | Infosys\n",
      "Data Scientist | Elucidata \n",
      "Data Science Associate Manager | Accenture in India\n",
      "Fresher Opportunities - Java/Scala/Data Science/Golang | Obsessory\n",
      "Data Science (Jupyter/Azure ML/MatLab) | Accenture in India\n",
      "Data Scientist/Data Analytics | Live Connections\n",
      "Data Science Expert-Computer Vision | Talentica Software\n",
      "Data Science Consultant (Bengaluru, India) | ZS\n",
      "Data Science - Cocoa And Chocolate | Mondelēz International\n",
      "KGS | Management Consulting | Analytics | Data Science | KPMG India\n",
      "Data Science Associate Consultant (New Delhi, India) | ZS\n"
     ]
    }
   ],
   "source": [
    "#job roles with companies\n",
    "for job in parent_tags:\n",
    "    title_tag = job.find_element_by_css_selector('span.job-title-text')\n",
    "    title = title_tag.get_attribute('innerHTML').replace('<b>','').replace('</b>','')\n",
    "    \n",
    "    company_tag = job.find_element_by_css_selector('span.company-name-text')\n",
    "    company = company_tag.get_attribute('innerHTML')\n",
    "    print(title,'|',company)"
   ]
  },
  {
   "cell_type": "code",
   "execution_count": 69,
   "metadata": {},
   "outputs": [
    {
     "name": "stdout",
     "output_type": "stream",
     "text": [
      "Data Science Architect | YASH Technologies | Plot No. 23/1, IT &amp; ITES MIDC, , Phase-3, Hinjawadi, Pune, MH 411057, IN\n",
      "Data Science Specialist | Accenture in India | Bangalore, IN\n",
      "Data Science Intern | Swiggy | Bengaluru, Karnataka, India\n",
      "Data Science for Banking | Accenture in India | Mumbai, IN\n",
      "Head - Data Science and Analytics | Biz2Credit | Noida, Uttar Pradesh, India\n",
      "Data Science Expert-NLP | Talentica Software | Pune, Maharashtra, India\n",
      "Data Science Associate | Indus Insights | 805 Tower A Spaze TechPark Sohna Road, Gurgaon, HR 122002, IN\n",
      "Data Science Manager | Indus Insights | 805 Tower A Spaze TechPark Sohna Road, Gurgaon, HR 122002, IN\n",
      "Global Operations Data Science Consultant | Hewlett Packard Enterprise | Bangalore, IN\n",
      "Data Scientist | Arnold Consulting Private Limited | Bengaluru Area, India\n",
      "Product Manager (Data Science) | People Interactive | Ground Floor, Film Centre Bldg Tardeo Road, Mumbai, MH 400034, IN\n",
      "Manager, Research Data Science | Amazon | Bangalore, IN\n",
      "AI Engineering Intern with Data Science and Insights | Genpact | Bengaluru, Karnataka, India\n",
      "Data Science Associate (Bengaluru, India) | ZS | Bangalore, IN\n",
      "Data Science modelers | Infosys | Bangalore, IN\n",
      "Data Scientist | Elucidata  | South West Delhi, Delhi, India\n",
      "Data Science Associate Manager | Accenture in India | Bangalore, IN\n",
      "Fresher Opportunities - Java/Scala/Data Science/Golang | Obsessory | Bengaluru Area, India\n",
      "Data Science (Jupyter/Azure ML/MatLab) | Accenture in India | Hyderabad, IN\n",
      "Data Scientist/Data Analytics | Live Connections | Mumbai, Maharashtra, India\n",
      "Data Science Expert-Computer Vision | Talentica Software | Pune, Maharashtra, India\n",
      "Data Science Consultant (Bengaluru, India) | ZS | Bangalore, IN\n",
      "Data Science - Cocoa And Chocolate | Mondelēz International | Mumbai, IN\n",
      "KGS | Management Consulting | Analytics | Data Science | KPMG India | Bangalore, IN\n",
      "Data Science Associate Consultant (New Delhi, India) | ZS | Delhi, IN\n"
     ]
    }
   ],
   "source": [
    "#for job title with company and location\n",
    "for job in parent_tags:\n",
    "    title_tag = job.find_element_by_css_selector('span.job-title-text')\n",
    "    title = title_tag.get_attribute('innerHTML').replace('<b>','').replace('</b>','')\n",
    "    \n",
    "    company_tag = job.find_element_by_css_selector('span.company-name-text')\n",
    "    company = company_tag.get_attribute('innerHTML')\n",
    "    \n",
    "    \n",
    "    \n",
    "    location_tag = job.find_element_by_css_selector('span.job-location')\n",
    "    location_tag = location_tag.find_element_by_css_selector('span')\n",
    "    location = location_tag.get_attribute('innerHTML')\n",
    "    \n",
    "    print(title,'|',company,'|',location)"
   ]
  },
  {
   "cell_type": "code",
   "execution_count": 80,
   "metadata": {},
   "outputs": [
    {
     "name": "stdout",
     "output_type": "stream",
     "text": [
      "YASH Technologies, a leading enterprise business and technology solution partner for medium and large global customers, is seeking Data Science Architect Professionals, who ... \n",
      "------------\n",
      "We are looking for someone who has a comprehensive skill set: “Hard” skills: Assist in growing data science skills in the team, i.e. organizing learning activities, create ... www.accenture.com\n",
      "------------\n",
      "The Data Science team is a team of scientists without white coats, constantly pondering in the realm of data and building AI/ML solutions to make the Swiggy ecosystem intelligent. \n",
      "------------\n",
      "Job Requirements : 1 Responsibilities :A:Manage data science and analytics team to carry out some of the above tasks 2 Professional experience : A:Lead the data science ... www.accenture.com\n",
      "------------\n",
      "Must demonstrate Macro and Micro level skills and have both strategic and operational understanding of data science, with solid business instincts and judgement. Experience in ... \n",
      "------------\n",
      "Hands-on experience with use of standard natural language processing libraries and machine learning libraries such as Tensorflow, Keras, NLTK, OpenNLP, Spacy, Sk-Learn, ML-Lib. ... \n",
      "------------\n",
      "Indus Insights is looking for top notch talent to drive consulting and data sciences assignments of the firm. 2. Tools & Skills (Only required for Sr. Associate Position): This ... \n",
      "------------\n",
      "Indus Insights is looking for top-notch professionals for leadership & supervisory roles in Data Sciences and Analytics consulting. These positions require a Minimum of 3 years ... \n",
      "------------\n",
      "Strong Microsoft Excel, Access and PowerPoint skills (VBA, SQL programming experience preferred) If you are looking for challenges in a pleasant and international work ... careers.hpe.com\n",
      "------------\n",
      "We are looking for outstanding machine learning / AI / NLP engineers / data scientists whose skills span the entire spectrum of Artificial Intelligence/Machine Learning/... \n",
      "------------\n",
      "To achieve that, we are looking for a data-science minded Product manager to join our team. Experience with large scale data science and data analysis products is preferable. ... \n",
      "------------\n",
      "The successful candidate will have an established background in developing customer-facing experiences, a strong technical ability, demonstrated experience in people management,... www.amazon.jobs\n",
      "------------\n",
      "We are looking for a candidate who is technologically savvy with deep maths background, Curious and passionate to solve business problems with an exposure to Machine Learning & ... \n",
      "------------\n",
      "The common denominator in an individual's success is a strong academic record, a stated interest in working with business operations, and evidence of superior analytic skills. ... jobs.zs.com\n",
      "------------\n",
      "Responsible for successful delivery of Advanced Analytics solutions and services in client consulting environment; experience in optimization (linear, mixed integer, constraint ... CAREERS.INFOSYS.COM\n",
      "------------\n",
      "Elucidata is seeking a data science enthusiast for the role of Data Scientist. In this role, you will get the opportunity to apply your data science skills to solve complex ... \n",
      "------------\n",
      "We are looking for someone who has a comprehensive skill set: “Hard” skills: Assist in growing data science skills in the team, i.e. organizing learning activities, create ... www.accenture.com\n",
      "------------\n",
      "The ideal candidate would have. We are looking for ambitious and outstanding new graduates who thrive on challenges and highly charged startup work environment to join our team. \n",
      "------------\n",
      "Job Requirements : Role: Data Scientist Must Have: 1 Exp in Data science frameworks Jupyter notebook, AWS Sagemaker etc 2 Exp querying databases and using statistical computer ... www.accenture.com\n",
      "------------\n",
      "At least 5+ years of work experience in data science/data analytics.     Awareness or experience with using big data tools (Hadoop, Spark, Hive).     Research and implement ... \n",
      "------------\n",
      "Hands-on experience with use of standard image processing and machine learning libraries such as OpenCV, Tensorflow, Keras, Sk-Learn, ML-Lib. Demonstrated experience in ... \n",
      "------------\n",
      "The Data Science Consultant will play a critical role in designing, developing and implementing analytical techniques on large, complex, structured and unstructured data sets (... jobs.zs.com\n",
      "------------\n",
      "Strong quantitative skillset with experience in statistics, linear algebra. Experience in a procurement setting manipulating procurement data such as cost models and supplier ... mondelez.taleo.net\n",
      "------------\n",
      "Masters, or PhD in Computer Science, Statistics, Mathematics, Engineering, Bioinformatics, Physics, Operations Research, or related fields, with 5+ years of relevant experience. krb-sjobs.brassring.com\n",
      "------------\n",
      "The common denominator in an individual's success is a strong academic record, a stated interest in working with business operations, and evidence of superior analytic skills. ... jobs.zs.com\n",
      "------------\n"
     ]
    }
   ],
   "source": [
    "#for job title with company and location\n",
    "import bs4\n",
    "for job in parent_tags:\n",
    "    title_tag = job.find_element_by_css_selector('span.job-title-text')\n",
    "    title = title_tag.get_attribute('innerHTML').replace('<b>','').replace('</b>','')\n",
    "    \n",
    "    company_tag = job.find_element_by_css_selector('span.company-name-text')\n",
    "    company = company_tag.get_attribute('innerHTML')\n",
    "    \n",
    "    \n",
    "    \n",
    "    location_tag = job.find_element_by_css_selector('span.job-location')\n",
    "    location_tag = location_tag.find_element_by_css_selector('span')\n",
    "    location = location_tag.get_attribute('innerHTML')\n",
    "    \n",
    "    description_tag = job.find_element_by_css_selector('div.job-description')\n",
    "    description = description_tag.get_attribute('innerHTML')\n",
    "    description = bs4.BeautifulSoup(description,'html.parser').text\n",
    "    #rep_str = '...<span class = \"job-attribution\"> </span>'\n",
    "    description = description.replace(rep_str,'')\n",
    "    \n",
    "    print(description)\n",
    "    print('------------')\n",
    "    "
   ]
  },
  {
   "cell_type": "code",
   "execution_count": 81,
   "metadata": {},
   "outputs": [
    {
     "name": "stdout",
     "output_type": "stream",
     "text": [
      "Data Science Architect | YASH Technologies | Plot No. 23/1, IT &amp; ITES MIDC, , Phase-3, Hinjawadi, Pune, MH 411057, IN | YASH Technologies, a leading enterprise business and technology solution partner for medium and large global customers, is seeking Data Science Architect Professionals, who ... \n",
      "Data Science Specialist | Accenture in India | Bangalore, IN | We are looking for someone who has a comprehensive skill set: “Hard” skills: Assist in growing data science skills in the team, i.e. organizing learning activities, create ... www.accenture.com\n",
      "Data Science Intern | Swiggy | Bengaluru, Karnataka, India | The Data Science team is a team of scientists without white coats, constantly pondering in the realm of data and building AI/ML solutions to make the Swiggy ecosystem intelligent. \n",
      "Data Science for Banking | Accenture in India | Mumbai, IN | Job Requirements : 1 Responsibilities :A:Manage data science and analytics team to carry out some of the above tasks 2 Professional experience : A:Lead the data science ... www.accenture.com\n",
      "Head - Data Science and Analytics | Biz2Credit | Noida, Uttar Pradesh, India | Must demonstrate Macro and Micro level skills and have both strategic and operational understanding of data science, with solid business instincts and judgement. Experience in ... \n",
      "Data Science Expert-NLP | Talentica Software | Pune, Maharashtra, India | Hands-on experience with use of standard natural language processing libraries and machine learning libraries such as Tensorflow, Keras, NLTK, OpenNLP, Spacy, Sk-Learn, ML-Lib. ... \n",
      "Data Science Associate | Indus Insights | 805 Tower A Spaze TechPark Sohna Road, Gurgaon, HR 122002, IN | Indus Insights is looking for top notch talent to drive consulting and data sciences assignments of the firm. 2. Tools & Skills (Only required for Sr. Associate Position): This ... \n",
      "Data Science Manager | Indus Insights | 805 Tower A Spaze TechPark Sohna Road, Gurgaon, HR 122002, IN | Indus Insights is looking for top-notch professionals for leadership & supervisory roles in Data Sciences and Analytics consulting. These positions require a Minimum of 3 years ... \n",
      "Global Operations Data Science Consultant | Hewlett Packard Enterprise | Bangalore, IN | Strong Microsoft Excel, Access and PowerPoint skills (VBA, SQL programming experience preferred) If you are looking for challenges in a pleasant and international work ... careers.hpe.com\n",
      "Data Scientist | Arnold Consulting Private Limited | Bengaluru Area, India | We are looking for outstanding machine learning / AI / NLP engineers / data scientists whose skills span the entire spectrum of Artificial Intelligence/Machine Learning/... \n",
      "Product Manager (Data Science) | People Interactive | Ground Floor, Film Centre Bldg Tardeo Road, Mumbai, MH 400034, IN | To achieve that, we are looking for a data-science minded Product manager to join our team. Experience with large scale data science and data analysis products is preferable. ... \n",
      "Manager, Research Data Science | Amazon | Bangalore, IN | The successful candidate will have an established background in developing customer-facing experiences, a strong technical ability, demonstrated experience in people management,... www.amazon.jobs\n",
      "AI Engineering Intern with Data Science and Insights | Genpact | Bengaluru, Karnataka, India | We are looking for a candidate who is technologically savvy with deep maths background, Curious and passionate to solve business problems with an exposure to Machine Learning & ... \n",
      "Data Science Associate (Bengaluru, India) | ZS | Bangalore, IN | The common denominator in an individual's success is a strong academic record, a stated interest in working with business operations, and evidence of superior analytic skills. ... jobs.zs.com\n",
      "Data Science modelers | Infosys | Bangalore, IN | Responsible for successful delivery of Advanced Analytics solutions and services in client consulting environment; experience in optimization (linear, mixed integer, constraint ... CAREERS.INFOSYS.COM\n",
      "Data Scientist | Elucidata  | South West Delhi, Delhi, India | Elucidata is seeking a data science enthusiast for the role of Data Scientist. In this role, you will get the opportunity to apply your data science skills to solve complex ... \n",
      "Data Science Associate Manager | Accenture in India | Bangalore, IN | We are looking for someone who has a comprehensive skill set: “Hard” skills: Assist in growing data science skills in the team, i.e. organizing learning activities, create ... www.accenture.com\n",
      "Fresher Opportunities - Java/Scala/Data Science/Golang | Obsessory | Bengaluru Area, India | The ideal candidate would have. We are looking for ambitious and outstanding new graduates who thrive on challenges and highly charged startup work environment to join our team. \n",
      "Data Science (Jupyter/Azure ML/MatLab) | Accenture in India | Hyderabad, IN | Job Requirements : Role: Data Scientist Must Have: 1 Exp in Data science frameworks Jupyter notebook, AWS Sagemaker etc 2 Exp querying databases and using statistical computer ... www.accenture.com\n",
      "Data Scientist/Data Analytics | Live Connections | Mumbai, Maharashtra, India | At least 5+ years of work experience in data science/data analytics.     Awareness or experience with using big data tools (Hadoop, Spark, Hive).     Research and implement ... \n",
      "Data Science Expert-Computer Vision | Talentica Software | Pune, Maharashtra, India | Hands-on experience with use of standard image processing and machine learning libraries such as OpenCV, Tensorflow, Keras, Sk-Learn, ML-Lib. Demonstrated experience in ... \n",
      "Data Science Consultant (Bengaluru, India) | ZS | Bangalore, IN | The Data Science Consultant will play a critical role in designing, developing and implementing analytical techniques on large, complex, structured and unstructured data sets (... jobs.zs.com\n",
      "Data Science - Cocoa And Chocolate | Mondelēz International | Mumbai, IN | Strong quantitative skillset with experience in statistics, linear algebra. Experience in a procurement setting manipulating procurement data such as cost models and supplier ... mondelez.taleo.net\n",
      "KGS | Management Consulting | Analytics | Data Science | KPMG India | Bangalore, IN | Masters, or PhD in Computer Science, Statistics, Mathematics, Engineering, Bioinformatics, Physics, Operations Research, or related fields, with 5+ years of relevant experience. krb-sjobs.brassring.com\n",
      "Data Science Associate Consultant (New Delhi, India) | ZS | Delhi, IN | The common denominator in an individual's success is a strong academic record, a stated interest in working with business operations, and evidence of superior analytic skills. ... jobs.zs.com\n"
     ]
    }
   ],
   "source": [
    "#for job title - company - location - description\n",
    "for job in parent_tags:\n",
    "    title_tag = job.find_element_by_css_selector('span.job-title-text')\n",
    "    title = title_tag.get_attribute('innerHTML').replace('<b>','').replace('</b>','')\n",
    "    \n",
    "    company_tag = job.find_element_by_css_selector('span.company-name-text')\n",
    "    company = company_tag.get_attribute('innerHTML')\n",
    "    \n",
    "    \n",
    "    \n",
    "    location_tag = job.find_element_by_css_selector('span.job-location')\n",
    "    location_tag = location_tag.find_element_by_css_selector('span')\n",
    "    location = location_tag.get_attribute('innerHTML')\n",
    "    \n",
    "    \n",
    "    description_tag = job.find_element_by_css_selector('div.job-description')\n",
    "    description = description_tag.get_attribute('innerHTML')\n",
    "    description = bs4.BeautifulSoup(description,'html.parser').text\n",
    "    #rep_str = '...<span class = \"job-attribution\"> </span>'\n",
    "    description = description.replace(rep_str,'')\n",
    "\n",
    "    \n",
    "    print(title,'|',company,'|',location,'|',description)"
   ]
  },
  {
   "cell_type": "code",
   "execution_count": 96,
   "metadata": {},
   "outputs": [],
   "source": [
    "#for job title - company - location - description\n",
    "jobs = pd.DataFrame()\n",
    "for job in parent_tags:\n",
    "    title_tag = job.find_element_by_css_selector('span.job-title-text')\n",
    "    title = title_tag.get_attribute('innerHTML').replace('<b>','').replace('</b>','')\n",
    "    \n",
    "    company_tag = job.find_element_by_css_selector('span.company-name-text')\n",
    "    company = company_tag.get_attribute('innerHTML')\n",
    "    \n",
    "    \n",
    "    \n",
    "    location_tag = job.find_element_by_css_selector('span.job-location')\n",
    "    location_tag = location_tag.find_element_by_css_selector('span')\n",
    "    location = location_tag.get_attribute('innerHTML')\n",
    "    \n",
    "    \n",
    "    description_tag = job.find_element_by_css_selector('div.job-description')\n",
    "    description = description_tag.get_attribute('innerHTML')\n",
    "    description = bs4.BeautifulSoup(description,'html.parser').text   #this line is used to remove tags\n",
    "    #rep_str = '...<span class = \"job-attribution\"> </span>'\n",
    "    #description = description.replace(rep_str,'')\n",
    "\n",
    "    \n",
    "    curr_job = {'title':title,\n",
    "                'company' : company,\n",
    "                'location' : location,\n",
    "                'description' : description \n",
    "               }\n",
    "    jobs = jobs.append(curr_job,ignore_index = True)"
   ]
  },
  {
   "cell_type": "code",
   "execution_count": 98,
   "metadata": {},
   "outputs": [
    {
     "data": {
      "text/html": [
       "<div>\n",
       "<style scoped>\n",
       "    .dataframe tbody tr th:only-of-type {\n",
       "        vertical-align: middle;\n",
       "    }\n",
       "\n",
       "    .dataframe tbody tr th {\n",
       "        vertical-align: top;\n",
       "    }\n",
       "\n",
       "    .dataframe thead th {\n",
       "        text-align: right;\n",
       "    }\n",
       "</style>\n",
       "<table border=\"1\" class=\"dataframe\">\n",
       "  <thead>\n",
       "    <tr style=\"text-align: right;\">\n",
       "      <th></th>\n",
       "      <th>company</th>\n",
       "      <th>description</th>\n",
       "      <th>location</th>\n",
       "      <th>title</th>\n",
       "    </tr>\n",
       "  </thead>\n",
       "  <tbody>\n",
       "    <tr>\n",
       "      <th>0</th>\n",
       "      <td>YASH Technologies</td>\n",
       "      <td>YASH Technologies, a leading enterprise busine...</td>\n",
       "      <td>Plot No. 23/1, IT &amp;amp; ITES MIDC, , Phase-3, ...</td>\n",
       "      <td>Data Science Architect</td>\n",
       "    </tr>\n",
       "    <tr>\n",
       "      <th>1</th>\n",
       "      <td>Accenture in India</td>\n",
       "      <td>We are looking for someone who has a comprehen...</td>\n",
       "      <td>Bangalore, IN</td>\n",
       "      <td>Data Science Specialist</td>\n",
       "    </tr>\n",
       "    <tr>\n",
       "      <th>2</th>\n",
       "      <td>Swiggy</td>\n",
       "      <td>The Data Science team is a team of scientists ...</td>\n",
       "      <td>Bengaluru, Karnataka, India</td>\n",
       "      <td>Data Science Intern</td>\n",
       "    </tr>\n",
       "    <tr>\n",
       "      <th>3</th>\n",
       "      <td>Accenture in India</td>\n",
       "      <td>Job Requirements : 1 Responsibilities :A:Manag...</td>\n",
       "      <td>Mumbai, IN</td>\n",
       "      <td>Data Science for Banking</td>\n",
       "    </tr>\n",
       "    <tr>\n",
       "      <th>4</th>\n",
       "      <td>Biz2Credit</td>\n",
       "      <td>Must demonstrate Macro and Micro level skills ...</td>\n",
       "      <td>Noida, Uttar Pradesh, India</td>\n",
       "      <td>Head - Data Science and Analytics</td>\n",
       "    </tr>\n",
       "    <tr>\n",
       "      <th>5</th>\n",
       "      <td>Talentica Software</td>\n",
       "      <td>Hands-on experience with use of standard natur...</td>\n",
       "      <td>Pune, Maharashtra, India</td>\n",
       "      <td>Data Science Expert-NLP</td>\n",
       "    </tr>\n",
       "    <tr>\n",
       "      <th>6</th>\n",
       "      <td>Indus Insights</td>\n",
       "      <td>Indus Insights is looking for top notch talent...</td>\n",
       "      <td>805 Tower A Spaze TechPark Sohna Road, Gurgaon...</td>\n",
       "      <td>Data Science Associate</td>\n",
       "    </tr>\n",
       "    <tr>\n",
       "      <th>7</th>\n",
       "      <td>Indus Insights</td>\n",
       "      <td>Indus Insights is looking for top-notch profes...</td>\n",
       "      <td>805 Tower A Spaze TechPark Sohna Road, Gurgaon...</td>\n",
       "      <td>Data Science Manager</td>\n",
       "    </tr>\n",
       "    <tr>\n",
       "      <th>8</th>\n",
       "      <td>Hewlett Packard Enterprise</td>\n",
       "      <td>Strong Microsoft Excel, Access and PowerPoint ...</td>\n",
       "      <td>Bangalore, IN</td>\n",
       "      <td>Global Operations Data Science Consultant</td>\n",
       "    </tr>\n",
       "    <tr>\n",
       "      <th>9</th>\n",
       "      <td>Arnold Consulting Private Limited</td>\n",
       "      <td>We are looking for outstanding machine learnin...</td>\n",
       "      <td>Bengaluru Area, India</td>\n",
       "      <td>Data Scientist</td>\n",
       "    </tr>\n",
       "  </tbody>\n",
       "</table>\n",
       "</div>"
      ],
      "text/plain": [
       "                             company  \\\n",
       "0                  YASH Technologies   \n",
       "1                 Accenture in India   \n",
       "2                             Swiggy   \n",
       "3                 Accenture in India   \n",
       "4                         Biz2Credit   \n",
       "5                 Talentica Software   \n",
       "6                     Indus Insights   \n",
       "7                     Indus Insights   \n",
       "8         Hewlett Packard Enterprise   \n",
       "9  Arnold Consulting Private Limited   \n",
       "\n",
       "                                         description  \\\n",
       "0  YASH Technologies, a leading enterprise busine...   \n",
       "1  We are looking for someone who has a comprehen...   \n",
       "2  The Data Science team is a team of scientists ...   \n",
       "3  Job Requirements : 1 Responsibilities :A:Manag...   \n",
       "4  Must demonstrate Macro and Micro level skills ...   \n",
       "5  Hands-on experience with use of standard natur...   \n",
       "6  Indus Insights is looking for top notch talent...   \n",
       "7  Indus Insights is looking for top-notch profes...   \n",
       "8  Strong Microsoft Excel, Access and PowerPoint ...   \n",
       "9  We are looking for outstanding machine learnin...   \n",
       "\n",
       "                                            location  \\\n",
       "0  Plot No. 23/1, IT &amp; ITES MIDC, , Phase-3, ...   \n",
       "1                                      Bangalore, IN   \n",
       "2                        Bengaluru, Karnataka, India   \n",
       "3                                         Mumbai, IN   \n",
       "4                        Noida, Uttar Pradesh, India   \n",
       "5                           Pune, Maharashtra, India   \n",
       "6  805 Tower A Spaze TechPark Sohna Road, Gurgaon...   \n",
       "7  805 Tower A Spaze TechPark Sohna Road, Gurgaon...   \n",
       "8                                      Bangalore, IN   \n",
       "9                              Bengaluru Area, India   \n",
       "\n",
       "                                       title  \n",
       "0                     Data Science Architect  \n",
       "1                    Data Science Specialist  \n",
       "2                        Data Science Intern  \n",
       "3                   Data Science for Banking  \n",
       "4          Head - Data Science and Analytics  \n",
       "5                    Data Science Expert-NLP  \n",
       "6                     Data Science Associate  \n",
       "7                       Data Science Manager  \n",
       "8  Global Operations Data Science Consultant  \n",
       "9                             Data Scientist  "
      ]
     },
     "execution_count": 98,
     "metadata": {},
     "output_type": "execute_result"
    }
   ],
   "source": [
    "jobs.head(10)"
   ]
  },
  {
   "cell_type": "code",
   "execution_count": 99,
   "metadata": {},
   "outputs": [
    {
     "data": {
      "text/plain": [
       "<matplotlib.image.AxesImage at 0x1b12727df98>"
      ]
     },
     "execution_count": 99,
     "metadata": {},
     "output_type": "execute_result"
    },
    {
     "data": {
      "image/png": "[encoded data removed]",
      "text/plain": [
       "<Figure size 432x288 with 1 Axes>"
      ]
     },
     "metadata": {
      "needs_background": "light"
     },
     "output_type": "display_data"
    }
   ],
   "source": [
    "from wordcloud import WordCloud\n",
    "\n",
    "wc = WordCloud().generate(' '.join(jobs['description']))\n",
    "plt.imshow(wc)"
   ]
  },
  {
   "cell_type": "markdown",
   "metadata": {},
   "source": [
    "## Text Summarization"
   ]
  },
  {
   "cell_type": "code",
   "execution_count": 100,
   "metadata": {},
   "outputs": [
    {
     "name": "stdout",
     "output_type": "stream",
     "text": [
      "Collecting sumy\n",
      "  Downloading https://files.pythonhosted.org/packages/2f/0e/30ebd2fb0925537a3b2f9fccf0a13171ba557e9450b1702d278159d3c592/sumy-0.7.0-py2.py3-none-any.whl (78kB)\n",
      "Requirement already satisfied: requests>=2.7.0 in c:\\users\\ashish\\anaconda3\\lib\\site-packages (from sumy) (2.19.1)\n",
      "Collecting docopt<0.7,>=0.6.1 (from sumy)\n",
      "  Downloading https://files.pythonhosted.org/packages/a2/55/8f8cab2afd404cf578136ef2cc5dfb50baa1761b68c9da1fb1e4eed343c9/docopt-0.6.2.tar.gz\n",
      "Requirement already satisfied: nltk>=3.0.2 in c:\\users\\ashish\\anaconda3\\lib\\site-packages (from sumy) (3.3)\n",
      "Collecting breadability>=0.1.20 (from sumy)\n",
      "  Downloading https://files.pythonhosted.org/packages/ad/2d/bb6c9b381e6b6a432aa2ffa8f4afdb2204f1ff97cfcc0766a5b7683fec43/breadability-0.1.20.tar.gz\n",
      "Requirement already satisfied: chardet<3.1.0,>=3.0.2 in c:\\users\\ashish\\anaconda3\\lib\\site-packages (from requests>=2.7.0->sumy) (3.0.4)\n",
      "Requirement already satisfied: certifi>=2017.4.17 in c:\\users\\ashish\\anaconda3\\lib\\site-packages (from requests>=2.7.0->sumy) (2018.8.24)\n",
      "Requirement already satisfied: urllib3<1.24,>=1.21.1 in c:\\users\\ashish\\anaconda3\\lib\\site-packages (from requests>=2.7.0->sumy) (1.23)\n",
      "Requirement already satisfied: idna<2.8,>=2.5 in c:\\users\\ashish\\anaconda3\\lib\\site-packages (from requests>=2.7.0->sumy) (2.7)\n",
      "Requirement already satisfied: six in c:\\users\\ashish\\anaconda3\\lib\\site-packages (from nltk>=3.0.2->sumy) (1.11.0)\n",
      "Requirement already satisfied: lxml>=2.0 in c:\\users\\ashish\\anaconda3\\lib\\site-packages (from breadability>=0.1.20->sumy) (4.2.5)\n",
      "Building wheels for collected packages: docopt, breadability\n",
      "  Running setup.py bdist_wheel for docopt: started\n",
      "  Running setup.py bdist_wheel for docopt: finished with status 'done'\n",
      "  Stored in directory: C:\\Users\\ASHISH\\AppData\\Local\\pip\\Cache\\wheels\\9b\\04\\dd\\7daf4150b6d9b12949298737de9431a324d4b797ffd63f526e\n",
      "  Running setup.py bdist_wheel for breadability: started\n",
      "  Running setup.py bdist_wheel for breadability: finished with status 'done'\n",
      "  Stored in directory: C:\\Users\\ASHISH\\AppData\\Local\\pip\\Cache\\wheels\\5a\\4d\\a1\\510b12c5e65e0b2b3ce539b2af66da0fc57571e528924f4a52\n",
      "Successfully built docopt breadability\n",
      "Installing collected packages: docopt, breadability, sumy\n",
      "Successfully installed breadability-0.1.20 docopt-0.6.2 sumy-0.7.0\n"
     ]
    }
   ],
   "source": [
    "!pip install sumy    #install sumy package"
   ]
  },
  {
   "cell_type": "code",
   "execution_count": 102,
   "metadata": {},
   "outputs": [],
   "source": [
    "import sumy\n",
    "from sumy.parsers.plaintext import PlaintextParser\n",
    "from sumy.nlp.tokenizers import Tokenizer\n",
    "from sumy.summarizers.lex_rank import LexRankSummarizer"
   ]
  },
  {
   "cell_type": "code",
   "execution_count": 106,
   "metadata": {},
   "outputs": [],
   "source": [
    "from selenium import webdriver\n",
    "browser = webdriver.Chrome('chromedriver.exe')    "
   ]
  },
  {
   "cell_type": "code",
   "execution_count": 107,
   "metadata": {},
   "outputs": [],
   "source": [
    "url = 'https://www.livemint.com/Companies/b4LtGm53W966uRNUiVQQKL/Maggi-case-Supreme-Court-revives-classaction-suit-against.html?utm_campaign=fullarticle&utm_medium=referral&utm_source=inshorts'\n",
    "browser.get(url)"
   ]
  },
  {
   "cell_type": "code",
   "execution_count": 110,
   "metadata": {},
   "outputs": [
    {
     "data": {
      "text/plain": [
       "12"
      ]
     },
     "execution_count": 110,
     "metadata": {},
     "output_type": "execute_result"
    }
   ],
   "source": [
    "div_tag = browser.find_element_by_css_selector('div.content')\n",
    "para_tags = div_tag.find_elements_by_css_selector('p')\n",
    "len(para_tags)"
   ]
  },
  {
   "cell_type": "code",
   "execution_count": 115,
   "metadata": {},
   "outputs": [
    {
     "data": {
      "text/plain": [
       "' <b>New Delhi:</b> In a setback to Nestle India Ltd, the Supreme Court on Thursday lifted a stay on the proceedings of a class-action suit filed by the central government against the maker of Maggi noodles in the apex consumer court. The National Consumer Disputes Redressal Commission (NCDRC) can now continue proceedings against Nestle India, based on  the results of tests of Maggi noodle samples conducted by the Central Food Technological Research Institute (CFTRI) in Mysuru. In December 2015, the top court had stayed NCDRC proceedings against Nestle India and directed the testing of the noodles by CFTRI. In April next year, Nestle cleared all tests and Maggi was declared safe for consumption. The government had approached the consumer court alleging unfair trade practices, false labelling and misleading advertisements by Nestle and sought a compensation of ₹640 crore under the provisions of the Consumer Protection Act, 1986.  The apex court’s ruling on Thursday means that Nestle may have to review its packaging and change the way it advertises the noodles brand. Nestle India, in a statement, said that it <a href=\"https://www.livemint.com/Companies/l3u8WG4HQEvL82QuCWIFeK/Nestle-welcomes-SC-order-on-govts-Maggi-case-at-NCDRC.html\">welcomed the orders</a> passed by the Supreme Court in the Maggi noodles matter. Senior advocate Abhishek Manu Singhvi, appearing for Nestle, told the court that the Mysuru-based lab had found the noodles to contain lead “within permissible limits” and that it could not be ascertained whether the <a href=\"https://www.livemint.com/Consumer/bGrLVXRrVoYjj00le7KxAO/Maggi-row-raises-serious-questions-about-junk-food-but-also.html\">monosodium glutamate (MSG)</a> in it was natural or added. The <a href=\"https://www.livemint.com/Companies/xyFCHn7hGJm1zUkesEVy5L/How-Nestle-is-rebuilding-in-India18-months-after-the-Maggi.html\">2015 Maggi ban</a> was a big blow to the Indian arm of the Swiss foods company, which took a hit of more than ₹500 crore as it recalled and destroyed more than 35,000 tonnes of noodles from 3.5 million retail outlets in June 2015.   <a href=\"https://www.livemint.com/Companies/1JKHsutTXLWtTcVwdIDg0H/The-Maggi-ban-How-Indias-favourite-twominute-noodles-lost.html\">Maggi was banned by FSSAI on 5 June 2015</a> for five months for allegedly containing <a href=\"https://www.livemint.com/Consumer/1rnNeZyY6hGzM0x4kBfipM/Maggi-noodles-How-much-lead-is-too-much.html\">lead beyond permissible limits</a>, forcing Nestle India to withdraw the product from the market. This led to not just losses, but also erosion of consumer trust in the popular brand.   Nestle said that Maggi, which once enjoyed a 75% share of the market before the ban, clawed back to 60% in 2016. To further the cause of improving food safety standards in the country, in September 2017 <a href=\"https://www.livemint.com/Companies/c1MlHhFpMJJIHupohxMVGN/Nestle-sets-up-first-food-safety-institute-in-India-at-Manes.html\">Nestle partnered with FSSAI to open the first food safety institute in Manesar</a>. “Nestle had seen favourable outcomes from international and national labs for its Maggi samples before it hit the market. I do not see any major issue hitting the company in this regard,” said Abneesh Roy, senior vice-president at Edelweiss Securities. '"
      ]
     },
     "execution_count": 115,
     "metadata": {},
     "output_type": "execute_result"
    }
   ],
   "source": [
    "sentences = ''\n",
    "for para in para_tags:\n",
    "    para_text = para.get_attribute('innerHTML')\n",
    "    sentences = sentences + ' ' + para_text\n",
    "    \n",
    "\n",
    "sentences"
   ]
  },
  {
   "cell_type": "code",
   "execution_count": 116,
   "metadata": {},
   "outputs": [
    {
     "data": {
      "text/plain": [
       "' New Delhi: In a setback to Nestle India Ltd, the Supreme Court on Thursday lifted a stay on the proceedings of a class-action suit filed by the central government against the maker of Maggi noodles in the apex consumer court. The National Consumer Disputes Redressal Commission (NCDRC) can now continue proceedings against Nestle India, based on  the results of tests of Maggi noodle samples conducted by the Central Food Technological Research Institute (CFTRI) in Mysuru. In December 2015, the top court had stayed NCDRC proceedings against Nestle India and directed the testing of the noodles by CFTRI. In April next year, Nestle cleared all tests and Maggi was declared safe for consumption. The government had approached the consumer court alleging unfair trade practices, false labelling and misleading advertisements by Nestle and sought a compensation of ₹640 crore under the provisions of the Consumer Protection Act, 1986.  The apex court’s ruling on Thursday means that Nestle may have to review its packaging and change the way it advertises the noodles brand. Nestle India, in a statement, said that it welcomed the orders passed by the Supreme Court in the Maggi noodles matter. Senior advocate Abhishek Manu Singhvi, appearing for Nestle, told the court that the Mysuru-based lab had found the noodles to contain lead “within permissible limits” and that it could not be ascertained whether the monosodium glutamate (MSG) in it was natural or added. The 2015 Maggi ban was a big blow to the Indian arm of the Swiss foods company, which took a hit of more than ₹500 crore as it recalled and destroyed more than 35,000 tonnes of noodles from 3.5 million retail outlets in June 2015.   Maggi was banned by FSSAI on 5 June 2015 for five months for allegedly containing lead beyond permissible limits, forcing Nestle India to withdraw the product from the market. This led to not just losses, but also erosion of consumer trust in the popular brand.   Nestle said that Maggi, which once enjoyed a 75% share of the market before the ban, clawed back to 60% in 2016. To further the cause of improving food safety standards in the country, in September 2017 Nestle partnered with FSSAI to open the first food safety institute in Manesar. “Nestle had seen favourable outcomes from international and national labs for its Maggi samples before it hit the market. I do not see any major issue hitting the company in this regard,” said Abneesh Roy, senior vice-president at Edelweiss Securities. '"
      ]
     },
     "execution_count": 116,
     "metadata": {},
     "output_type": "execute_result"
    }
   ],
   "source": [
    "sentences = ''\n",
    "for para in para_tags:\n",
    "    para_text = para.get_attribute('innerHTML')\n",
    "    sentences = sentences + ' ' + para_text\n",
    "    sentences = bs4.BeautifulSoup(sentences,'html.parser').text   #this line is used to remove html tags\n",
    "    \n",
    "sentences"
   ]
  },
  {
   "cell_type": "code",
   "execution_count": 117,
   "metadata": {},
   "outputs": [
    {
     "data": {
      "text/plain": [
       "' New Delhi'"
      ]
     },
     "execution_count": 117,
     "metadata": {},
     "output_type": "execute_result"
    }
   ],
   "source": [
    "sentences = ''\n",
    "for para in para_tags:\n",
    "    para_text = para.get_attribute('innerHTML')\n",
    "    sentences = sentences + ' ' + para_text\n",
    "    sentences = bs4.BeautifulSoup(sentences,'html.parser').text   #this line is used to remove html tags\n",
    "    \n",
    "sentences[:10]   #this line is to get 1st 10 words of the para"
   ]
  },
  {
   "cell_type": "code",
   "execution_count": 118,
   "metadata": {},
   "outputs": [
    {
     "name": "stdout",
     "output_type": "stream",
     "text": [
      "[nltk_data] Downloading package punkt to\n",
      "[nltk_data]     C:\\Users\\ASHISH\\AppData\\Roaming\\nltk_data...\n",
      "[nltk_data]   Unzipping tokenizers\\punkt.zip.\n"
     ]
    },
    {
     "data": {
      "text/plain": [
       "True"
      ]
     },
     "execution_count": 118,
     "metadata": {},
     "output_type": "execute_result"
    }
   ],
   "source": [
    "nltk.download('punkt')"
   ]
  },
  {
   "cell_type": "code",
   "execution_count": 120,
   "metadata": {},
   "outputs": [
    {
     "name": "stdout",
     "output_type": "stream",
     "text": [
      "New Delhi: In a setback to Nestle India Ltd, the Supreme Court on Thursday lifted a stay on the proceedings of a class-action suit filed by the central government against the maker of Maggi noodles in the apex consumer court.\n",
      "--------------\n",
      "The National Consumer Disputes Redressal Commission (NCDRC) can now continue proceedings against Nestle India, based on  the results of tests of Maggi noodle samples conducted by the Central Food Technological Research Institute (CFTRI) in Mysuru.\n",
      "--------------\n",
      "In April next year, Nestle cleared all tests and Maggi was declared safe for consumption.\n",
      "--------------\n",
      "Nestle India, in a statement, said that it welcomed the orders passed by the Supreme Court in the Maggi noodles matter.\n",
      "--------------\n",
      "Senior advocate Abhishek Manu Singhvi, appearing for Nestle, told the court that the Mysuru-based lab had found the noodles to contain lead “within permissible limits” and that it could not be ascertained whether the monosodium glutamate (MSG) in it was natural or added.\n",
      "--------------\n",
      "Maggi was banned by FSSAI on 5 June 2015 for five months for allegedly containing lead beyond permissible limits, forcing Nestle India to withdraw the product from the market.\n",
      "--------------\n",
      "This led to not just losses, but also erosion of consumer trust in the popular brand.\n",
      "--------------\n",
      "Nestle said that Maggi, which once enjoyed a 75% share of the market before the ban, clawed back to 60% in 2016.\n",
      "--------------\n",
      "“Nestle had seen favourable outcomes from international and national labs for its Maggi samples before it hit the market.\n",
      "--------------\n",
      "I do not see any major issue hitting the company in this regard,” said Abneesh Roy, senior vice-president at Edelweiss Securities.\n",
      "--------------\n"
     ]
    }
   ],
   "source": [
    "#for important sentences in news\n",
    "parser = PlaintextParser(sentences,Tokenizer('english'))\n",
    "\n",
    "summarizer = LexRankSummarizer()\n",
    "summarized_sentences = summarizer(parser.document,10)\n",
    "\n",
    "for sentence in summarized_sentences:\n",
    "    print(sentence)\n",
    "    print('--------------')"
   ]
  },
  {
   "cell_type": "code",
   "execution_count": 121,
   "metadata": {},
   "outputs": [
    {
     "name": "stdout",
     "output_type": "stream",
     "text": [
      "New Delhi: In a setback to Nestle India Ltd, the Supreme Court on Thursday lifted a stay on the proceedings of a class-action suit filed by the central government against the maker of Maggi noodles in the apex consumer court.\n",
      "--------------\n",
      "The National Consumer Disputes Redressal Commission (NCDRC) can now continue proceedings against Nestle India, based on  the results of tests of Maggi noodle samples conducted by the Central Food Technological Research Institute (CFTRI) in Mysuru.\n",
      "--------------\n",
      "Nestle said that Maggi, which once enjoyed a 75% share of the market before the ban, clawed back to 60% in 2016.\n",
      "--------------\n"
     ]
    }
   ],
   "source": [
    "#for important sentences in news\n",
    "parser = PlaintextParser(sentences,Tokenizer('english'))\n",
    "\n",
    "summarizer = LexRankSummarizer()\n",
    "summarized_sentences = summarizer(parser.document,3)\n",
    "\n",
    "for sentence in summarized_sentences:\n",
    "    print(sentence)\n",
    "    print('--------------')"
   ]
  },
  {
   "cell_type": "code",
   "execution_count": null,
   "metadata": {},
   "outputs": [],
   "source": []
  }
 ],
 "metadata": {
  "kernelspec": {
   "display_name": "Python 3",
   "language": "python",
   "name": "python3"
  },
  "language_info": {
   "codemirror_mode": {
    "name": "ipython",
    "version": 3
   },
   "file_extension": ".py",
   "mimetype": "text/x-python",
   "name": "python",
   "nbconvert_exporter": "python",
   "pygments_lexer": "ipython3",
   "version": "3.7.0"
  }
 },
 "nbformat": 4,
 "nbformat_minor": 2
}
